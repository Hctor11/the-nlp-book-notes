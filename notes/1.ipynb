{
 "cells": [
  {
   "cell_type": "markdown",
   "metadata": {},
   "source": [
    "# Why python?\n",
    "\n",
    "python is a simple and easy to learn programming language, it has a lot of useful functionalities that made it one of the best suited for nlp. "
   ]
  },
  {
   "cell_type": "code",
   "execution_count": 3,
   "metadata": {},
   "outputs": [
    {
     "name": "stdout",
     "output_type": "stream",
     "text": [
      "the\n",
      "line\n"
     ]
    }
   ],
   "source": [
    "for line in open(\"data/f-file.txt\"):\n",
    "    for word in line.split():\n",
    "        if word.endswith('e'):\n",
    "            print(word)"
   ]
  },
  {
   "cell_type": "markdown",
   "metadata": {},
   "source": [
    "# NLP and python (Ch. 1)\n",
    "\n",
    "Thigs that the chapter teach:\n",
    "- What we can achieve by combining simple programming techniques with large quantities of text?\n",
    "- How can we automatically extract keywords and phrases that sum up the style and content of a text?\n",
    "- What tools and techniques does the python programming language provide for this type of work?\n",
    "- What are some of the interesting challenges of NLP?"
   ]
  }
 ],
 "metadata": {
  "kernelspec": {
   "display_name": "Python 3",
   "language": "python",
   "name": "python3"
  },
  "language_info": {
   "codemirror_mode": {
    "name": "ipython",
    "version": 3
   },
   "file_extension": ".py",
   "mimetype": "text/x-python",
   "name": "python",
   "nbconvert_exporter": "python",
   "pygments_lexer": "ipython3",
   "version": "3.10.7"
  }
 },
 "nbformat": 4,
 "nbformat_minor": 2
}
